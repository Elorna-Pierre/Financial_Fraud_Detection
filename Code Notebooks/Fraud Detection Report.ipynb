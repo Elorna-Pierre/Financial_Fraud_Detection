{
 "cells": [
  {
   "cell_type": "markdown",
   "metadata": {},
   "source": [
    "# Fraud Detection Report"
   ]
  },
  {
   "cell_type": "markdown",
   "metadata": {},
   "source": [
    "#### 1. Which insights did you gain from your EDA? \n"
   ]
  },
  {
   "cell_type": "markdown",
   "metadata": {},
   "source": [
    "Fraudulent transactions predominantly occur in TRANSFER and CASH_OUT types.\n",
    "The dataset is highly imbalanced, with fraudulent transactions being a very small percentage of the total.\n",
    "Feature correlations indicate a strong relationship between oldbalanceDest and newbalanceDest, suggesting that fraudsters often manipulate balances to mimic normal transactions.\n",
    "Scatter plots reveal distinct patterns where fraudulent transactions often result in zero balances."
   ]
  },
  {
   "cell_type": "markdown",
   "metadata": {},
   "source": [
    "#### 2. How did you determine which columns to drop or keep? If your EDA informed this process, explain which insights you used to determine which columns were not needed. \n"
   ]
  },
  {
   "cell_type": "markdown",
   "metadata": {},
   "source": [
    "- Dropped Columns:\n",
    "nameOrig and nameDest: These are unique identifiers and do not contribute meaningfully to fraud prediction.\n",
    "\n",
    "- Kept Columns:\n",
    "amount, oldbalanceOrg, newbalanceOrig, oldbalanceDest, newbalanceDest: These financial metrics directly influence fraud detection.\n",
    "\n",
    "- Type: The transaction type is critical as fraud is concentrated in specific categories."
   ]
  },
  {
   "cell_type": "markdown",
   "metadata": {},
   "source": [
    "#### 3. Which hyperparameter tuning strategy did you use? Grid-search or random-search? Why? \n"
   ]
  },
  {
   "cell_type": "markdown",
   "metadata": {},
   "source": [
    "- Approach Used: Random-SearchCV\n",
    "\n",
    "- Reasoning:\n",
    "RandomizedSearchCV randomly explores combinations of hyperparameters for RandomForestClassifier, helping to find the best performance.\n",
    "Given the dataset's imbalance, tuning parameters like min_samples_split and min_samples_leaf helps prevent overfitting."
   ]
  },
  {
   "cell_type": "markdown",
   "metadata": {},
   "source": [
    "#### 4. How did your model's performance change after discovering optimal hyperparameters? \n"
   ]
  },
  {
   "cell_type": "markdown",
   "metadata": {},
   "source": [
    "Before Hyperparameter Tuning:\n",
    "- Accuracy: High as a result of class imbalance\n",
    "- Precision: Many false positives\n",
    "- Recall: Some fraud detected\n",
    "- F1 Score: Moderate, needs more class imbalance handling \n",
    "\n",
    "\n",
    "After Hyperparameter Tuning:\n",
    "- Improved Recall: Better fraud detection with fewer missed cases.\n",
    "- Balanced Precision: Fewer false positives, reducing disruptions to genuine transactions.\n",
    "- Overall F1 Score Improved, making fraud detection more reliable."
   ]
  },
  {
   "cell_type": "markdown",
   "metadata": {},
   "source": [
    "#### 5. What was your final F1 Score? \n"
   ]
  },
  {
   "cell_type": "markdown",
   "metadata": {},
   "source": [
    "Final Model Results:\n",
    "\n",
    "- Accuracy: 0.9993\n",
    "- F1 Score: 0.8793"
   ]
  }
 ],
 "metadata": {
  "kernelspec": {
   "display_name": "base",
   "language": "python",
   "name": "python3"
  },
  "language_info": {
   "name": "python",
   "version": "3.12.4"
  }
 },
 "nbformat": 4,
 "nbformat_minor": 2
}
